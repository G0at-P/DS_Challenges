{
 "cells": [
  {
   "cell_type": "code",
   "execution_count": 1,
   "metadata": {},
   "outputs": [],
   "source": [
    "import pandas as pd\n",
    "import numpy as np\n",
    "import glob\n",
    "from sklearn import tree\n",
    "import matplotlib.pyplot as plt\n",
    "import seaborn as sns\n",
    "from scipy.stats import ttest_ind\n",
    "import warnings\n",
    "\n",
    "%matplotlib inline\n",
    "## make sure the plot is included as one part of the code, otherwise plots can be shown in a seperate window\n",
    "## import all required modules for future use"
   ]
  },
  {
   "cell_type": "code",
   "execution_count": 2,
   "metadata": {},
   "outputs": [],
   "source": [
    "user_stat=pd.read_csv('user_table.csv',index_col=False)\n",
    "test_stat=pd.read_csv('test_results.csv',index_col=False)"
   ]
  },
  {
   "cell_type": "code",
   "execution_count": 3,
   "metadata": {},
   "outputs": [
    {
     "name": "stdout",
     "output_type": "stream",
     "text": [
      "             user_id            lat           long\n",
      "count  275616.000000  275616.000000  275616.000000\n",
      "mean   499245.801521      37.111680     -93.981772\n",
      "std    288533.458944       5.209627      18.086486\n",
      "min         3.000000      19.700000    -157.800000\n",
      "25%    249544.500000      33.660000    -112.200000\n",
      "50%    498861.000000      37.740000     -88.930000\n",
      "75%    748856.500000      40.700000     -78.910000\n",
      "max    999999.000000      61.180000      30.310000\n",
      "              user_id           test          price      converted\n",
      "count   316800.000000  316800.000000  316800.000000  316800.000000\n",
      "mean    499281.341840       0.360079      46.205051       0.018333\n",
      "std     288591.154044       0.480024       9.601487       0.134154\n",
      "min          3.000000       0.000000      39.000000       0.000000\n",
      "25%     249525.750000       0.000000      39.000000       0.000000\n",
      "50%     499021.500000       0.000000      39.000000       0.000000\n",
      "75%     749025.500000       1.000000      59.000000       0.000000\n",
      "max    1000000.000000       1.000000      59.000000       1.000000\n"
     ]
    }
   ],
   "source": [
    "print(user_stat.describe())\n",
    "print(test_stat.describe())\n",
    "#summarize the user_stat information#"
   ]
  },
  {
   "cell_type": "code",
   "execution_count": 4,
   "metadata": {},
   "outputs": [
    {
     "name": "stdout",
     "output_type": "stream",
     "text": [
      "Test ID:\t 316800 \t True\n",
      "User ID:\t 275616 \t True\n"
     ]
    }
   ],
   "source": [
    "# Check uniqueness\n",
    "print('Test ID:\\t', len(test_stat['user_id'].unique()), '\\t', len(test_stat['user_id'].unique()) == len(test_stat))\n",
    "print('User ID:\\t', len(user_stat['user_id'].unique()), '\\t', len(user_stat['user_id'].unique()) == len(user_stat))"
   ]
  },
  {
   "cell_type": "code",
   "execution_count": 5,
   "metadata": {},
   "outputs": [
    {
     "name": "stdout",
     "output_type": "stream",
     "text": [
      "   user_id         city country    lat    long\n",
      "0   510335      Peabody     USA  42.53  -70.97\n",
      "1    89568         Reno     USA  39.54 -119.82\n",
      "2   434134       Rialto     USA  34.11 -117.39\n",
      "3   289769  Carson City     USA  39.15 -119.74\n",
      "4   939586      Chicago     USA  41.84  -87.68\n",
      "   user_id            timestamp          source  device operative_system  \\\n",
      "0   604839  2015-05-08 03:38:34    ads_facebook  mobile              iOS   \n",
      "1   624057  2015-05-10 21:08:46      seo-google  mobile          android   \n",
      "2   317970  2015-04-04 15:01:23        ads-bing  mobile          android   \n",
      "3   685636  2015-05-07 07:26:01  direct_traffic  mobile              iOS   \n",
      "4   820854  2015-05-24 11:04:40    ads_facebook     web              mac   \n",
      "\n",
      "   test  price  converted  \n",
      "0     0     39          0  \n",
      "1     0     39          0  \n",
      "2     0     39          0  \n",
      "3     1     59          0  \n",
      "4     0     39          0  \n"
     ]
    }
   ],
   "source": [
    "print(user_stat[:5])\n",
    "print(test_stat[:5])"
   ]
  },
  {
   "cell_type": "code",
   "execution_count": 6,
   "metadata": {},
   "outputs": [
    {
     "name": "stdout",
     "output_type": "stream",
     "text": [
      "USA    275616\n",
      "Name: country, dtype: int64\n",
      "New York       25748\n",
      "Chicago         7153\n",
      "Houston         6706\n",
      "San Antonio     4633\n",
      "Los Angeles     4141\n",
      "               ...  \n",
      "Cerritos           1\n",
      "Costa Mesa         1\n",
      "East Lake          1\n",
      "New Milford        1\n",
      "Ocala              1\n",
      "Name: city, Length: 923, dtype: int64\n",
      "New York       25748\n",
      "Chicago         7153\n",
      "Houston         6706\n",
      "San Antonio     4633\n",
      "Los Angeles     4141\n",
      "               ...  \n",
      "Canton           531\n",
      "Providence       530\n",
      "Anchorage        522\n",
      "Toledo           505\n",
      "Toms River       502\n",
      "Name: city, Length: 104, dtype: int64\n"
     ]
    }
   ],
   "source": [
    "print(user_stat['country'].value_counts())\n",
    "print(user_stat['city'].value_counts())\n",
    "print(user_stat['city'].value_counts().loc[lambda x : x>500])"
   ]
  },
  {
   "cell_type": "code",
   "execution_count": 7,
   "metadata": {},
   "outputs": [],
   "source": [
    "user_test = pd.merge(user_stat,test_stat, on='user_id', how='outer')"
   ]
  },
  {
   "cell_type": "code",
   "execution_count": 8,
   "metadata": {},
   "outputs": [
    {
     "data": {
      "text/html": [
       "<div>\n",
       "<style scoped>\n",
       "    .dataframe tbody tr th:only-of-type {\n",
       "        vertical-align: middle;\n",
       "    }\n",
       "\n",
       "    .dataframe tbody tr th {\n",
       "        vertical-align: top;\n",
       "    }\n",
       "\n",
       "    .dataframe thead th {\n",
       "        text-align: right;\n",
       "    }\n",
       "</style>\n",
       "<table border=\"1\" class=\"dataframe\">\n",
       "  <thead>\n",
       "    <tr style=\"text-align: right;\">\n",
       "      <th></th>\n",
       "      <th>user_id</th>\n",
       "      <th>city</th>\n",
       "      <th>country</th>\n",
       "      <th>lat</th>\n",
       "      <th>long</th>\n",
       "      <th>timestamp</th>\n",
       "      <th>source</th>\n",
       "      <th>device</th>\n",
       "      <th>operative_system</th>\n",
       "      <th>test</th>\n",
       "      <th>price</th>\n",
       "      <th>converted</th>\n",
       "    </tr>\n",
       "  </thead>\n",
       "  <tbody>\n",
       "    <tr>\n",
       "      <th>0</th>\n",
       "      <td>510335</td>\n",
       "      <td>Peabody</td>\n",
       "      <td>USA</td>\n",
       "      <td>42.53</td>\n",
       "      <td>-70.97</td>\n",
       "      <td>2015-05-02 12:06:41</td>\n",
       "      <td>ads-google</td>\n",
       "      <td>mobile</td>\n",
       "      <td>android</td>\n",
       "      <td>0</td>\n",
       "      <td>39</td>\n",
       "      <td>0</td>\n",
       "    </tr>\n",
       "    <tr>\n",
       "      <th>1</th>\n",
       "      <td>89568</td>\n",
       "      <td>Reno</td>\n",
       "      <td>USA</td>\n",
       "      <td>39.54</td>\n",
       "      <td>-119.82</td>\n",
       "      <td>2015-04-30 16:02:01</td>\n",
       "      <td>ads_facebook</td>\n",
       "      <td>mobile</td>\n",
       "      <td>android</td>\n",
       "      <td>1</td>\n",
       "      <td>59</td>\n",
       "      <td>0</td>\n",
       "    </tr>\n",
       "    <tr>\n",
       "      <th>2</th>\n",
       "      <td>434134</td>\n",
       "      <td>Rialto</td>\n",
       "      <td>USA</td>\n",
       "      <td>34.11</td>\n",
       "      <td>-117.39</td>\n",
       "      <td>2015-05-16 19:53:40</td>\n",
       "      <td>direct_traffic</td>\n",
       "      <td>web</td>\n",
       "      <td>windows</td>\n",
       "      <td>1</td>\n",
       "      <td>59</td>\n",
       "      <td>0</td>\n",
       "    </tr>\n",
       "    <tr>\n",
       "      <th>3</th>\n",
       "      <td>289769</td>\n",
       "      <td>Carson City</td>\n",
       "      <td>USA</td>\n",
       "      <td>39.15</td>\n",
       "      <td>-119.74</td>\n",
       "      <td>2015-04-23 18:50:58</td>\n",
       "      <td>ads_facebook</td>\n",
       "      <td>web</td>\n",
       "      <td>windows</td>\n",
       "      <td>0</td>\n",
       "      <td>39</td>\n",
       "      <td>0</td>\n",
       "    </tr>\n",
       "    <tr>\n",
       "      <th>4</th>\n",
       "      <td>939586</td>\n",
       "      <td>Chicago</td>\n",
       "      <td>USA</td>\n",
       "      <td>41.84</td>\n",
       "      <td>-87.68</td>\n",
       "      <td>2015-03-08 13:53:10</td>\n",
       "      <td>ads_facebook</td>\n",
       "      <td>mobile</td>\n",
       "      <td>iOS</td>\n",
       "      <td>1</td>\n",
       "      <td>59</td>\n",
       "      <td>0</td>\n",
       "    </tr>\n",
       "    <tr>\n",
       "      <th>...</th>\n",
       "      <td>...</td>\n",
       "      <td>...</td>\n",
       "      <td>...</td>\n",
       "      <td>...</td>\n",
       "      <td>...</td>\n",
       "      <td>...</td>\n",
       "      <td>...</td>\n",
       "      <td>...</td>\n",
       "      <td>...</td>\n",
       "      <td>...</td>\n",
       "      <td>...</td>\n",
       "      <td>...</td>\n",
       "    </tr>\n",
       "    <tr>\n",
       "      <th>316795</th>\n",
       "      <td>622567</td>\n",
       "      <td>NaN</td>\n",
       "      <td>NaN</td>\n",
       "      <td>NaN</td>\n",
       "      <td>NaN</td>\n",
       "      <td>2015-04-09 21:54:09</td>\n",
       "      <td>direct_traffic</td>\n",
       "      <td>web</td>\n",
       "      <td>windows</td>\n",
       "      <td>0</td>\n",
       "      <td>39</td>\n",
       "      <td>0</td>\n",
       "    </tr>\n",
       "    <tr>\n",
       "      <th>316796</th>\n",
       "      <td>300043</td>\n",
       "      <td>NaN</td>\n",
       "      <td>NaN</td>\n",
       "      <td>NaN</td>\n",
       "      <td>NaN</td>\n",
       "      <td>2015-03-07 11:24:16</td>\n",
       "      <td>ads-google</td>\n",
       "      <td>web</td>\n",
       "      <td>windows</td>\n",
       "      <td>0</td>\n",
       "      <td>39</td>\n",
       "      <td>0</td>\n",
       "    </tr>\n",
       "    <tr>\n",
       "      <th>316797</th>\n",
       "      <td>590087</td>\n",
       "      <td>NaN</td>\n",
       "      <td>NaN</td>\n",
       "      <td>NaN</td>\n",
       "      <td>NaN</td>\n",
       "      <td>2015-03-13 11:30:09</td>\n",
       "      <td>ads_other</td>\n",
       "      <td>mobile</td>\n",
       "      <td>android</td>\n",
       "      <td>0</td>\n",
       "      <td>39</td>\n",
       "      <td>0</td>\n",
       "    </tr>\n",
       "    <tr>\n",
       "      <th>316798</th>\n",
       "      <td>874512</td>\n",
       "      <td>NaN</td>\n",
       "      <td>NaN</td>\n",
       "      <td>NaN</td>\n",
       "      <td>NaN</td>\n",
       "      <td>2015-03-14 12:13:52</td>\n",
       "      <td>ads_facebook</td>\n",
       "      <td>web</td>\n",
       "      <td>windows</td>\n",
       "      <td>0</td>\n",
       "      <td>39</td>\n",
       "      <td>0</td>\n",
       "    </tr>\n",
       "    <tr>\n",
       "      <th>316799</th>\n",
       "      <td>17427</td>\n",
       "      <td>NaN</td>\n",
       "      <td>NaN</td>\n",
       "      <td>NaN</td>\n",
       "      <td>NaN</td>\n",
       "      <td>2015-04-11 09:29:15</td>\n",
       "      <td>ads_facebook</td>\n",
       "      <td>web</td>\n",
       "      <td>windows</td>\n",
       "      <td>0</td>\n",
       "      <td>39</td>\n",
       "      <td>0</td>\n",
       "    </tr>\n",
       "  </tbody>\n",
       "</table>\n",
       "<p>316800 rows × 12 columns</p>\n",
       "</div>"
      ],
      "text/plain": [
       "        user_id         city country    lat    long            timestamp  \\\n",
       "0        510335      Peabody     USA  42.53  -70.97  2015-05-02 12:06:41   \n",
       "1         89568         Reno     USA  39.54 -119.82  2015-04-30 16:02:01   \n",
       "2        434134       Rialto     USA  34.11 -117.39  2015-05-16 19:53:40   \n",
       "3        289769  Carson City     USA  39.15 -119.74  2015-04-23 18:50:58   \n",
       "4        939586      Chicago     USA  41.84  -87.68  2015-03-08 13:53:10   \n",
       "...         ...          ...     ...    ...     ...                  ...   \n",
       "316795   622567          NaN     NaN    NaN     NaN  2015-04-09 21:54:09   \n",
       "316796   300043          NaN     NaN    NaN     NaN  2015-03-07 11:24:16   \n",
       "316797   590087          NaN     NaN    NaN     NaN  2015-03-13 11:30:09   \n",
       "316798   874512          NaN     NaN    NaN     NaN  2015-03-14 12:13:52   \n",
       "316799    17427          NaN     NaN    NaN     NaN  2015-04-11 09:29:15   \n",
       "\n",
       "                source  device operative_system  test  price  converted  \n",
       "0           ads-google  mobile          android     0     39          0  \n",
       "1         ads_facebook  mobile          android     1     59          0  \n",
       "2       direct_traffic     web          windows     1     59          0  \n",
       "3         ads_facebook     web          windows     0     39          0  \n",
       "4         ads_facebook  mobile              iOS     1     59          0  \n",
       "...                ...     ...              ...   ...    ...        ...  \n",
       "316795  direct_traffic     web          windows     0     39          0  \n",
       "316796      ads-google     web          windows     0     39          0  \n",
       "316797       ads_other  mobile          android     0     39          0  \n",
       "316798    ads_facebook     web          windows     0     39          0  \n",
       "316799    ads_facebook     web          windows     0     39          0  \n",
       "\n",
       "[316800 rows x 12 columns]"
      ]
     },
     "execution_count": 8,
     "metadata": {},
     "output_type": "execute_result"
    }
   ],
   "source": [
    "user_test.dropna(how='all')"
   ]
  },
  {
   "cell_type": "code",
   "execution_count": 23,
   "metadata": {},
   "outputs": [
    {
     "data": {
      "text/html": [
       "<div>\n",
       "<style scoped>\n",
       "    .dataframe tbody tr th:only-of-type {\n",
       "        vertical-align: middle;\n",
       "    }\n",
       "\n",
       "    .dataframe tbody tr th {\n",
       "        vertical-align: top;\n",
       "    }\n",
       "\n",
       "    .dataframe thead th {\n",
       "        text-align: right;\n",
       "    }\n",
       "</style>\n",
       "<table border=\"1\" class=\"dataframe\">\n",
       "  <thead>\n",
       "    <tr style=\"text-align: right;\">\n",
       "      <th></th>\n",
       "      <th></th>\n",
       "      <th>user_id</th>\n",
       "    </tr>\n",
       "    <tr>\n",
       "      <th>test</th>\n",
       "      <th>price</th>\n",
       "      <th></th>\n",
       "    </tr>\n",
       "  </thead>\n",
       "  <tbody>\n",
       "    <tr>\n",
       "      <th rowspan=\"2\" valign=\"top\">0</th>\n",
       "      <th>39</th>\n",
       "      <td>202517</td>\n",
       "    </tr>\n",
       "    <tr>\n",
       "      <th>59</th>\n",
       "      <td>210</td>\n",
       "    </tr>\n",
       "    <tr>\n",
       "      <th rowspan=\"2\" valign=\"top\">1</th>\n",
       "      <th>39</th>\n",
       "      <td>155</td>\n",
       "    </tr>\n",
       "    <tr>\n",
       "      <th>59</th>\n",
       "      <td>113918</td>\n",
       "    </tr>\n",
       "  </tbody>\n",
       "</table>\n",
       "</div>"
      ],
      "text/plain": [
       "            user_id\n",
       "test price         \n",
       "0    39      202517\n",
       "     59         210\n",
       "1    39         155\n",
       "     59      113918"
      ]
     },
     "execution_count": 23,
     "metadata": {},
     "output_type": "execute_result"
    }
   ],
   "source": [
    "# Problem with the data: test and price not match\n",
    "user_test[['price', 'test', 'user_id']].groupby(['test', 'price']).count()"
   ]
  },
  {
   "cell_type": "markdown",
   "metadata": {},
   "source": [
    "It seems there are some problems with the data\\\n",
    ". there are a small amount of users who are labelled with test=0 but actually see price 59.\\\n",
    ". there are a small amount of users who are labelled with test=1 but actually see price 39."
   ]
  },
  {
   "cell_type": "code",
   "execution_count": 26,
   "metadata": {},
   "outputs": [],
   "source": [
    "# only keep the valid data\n",
    "user_test = user_test[((user_test['test']==0) & (user_test['price']==39)) | ((user_test['test']==1) & (user_test['price']==59))]"
   ]
  },
  {
   "cell_type": "code",
   "execution_count": 27,
   "metadata": {},
   "outputs": [],
   "source": [
    "# create new column called `revenue`\n",
    "user_test['revenue'] = user_test['converted'] * user_test['price']"
   ]
  },
  {
   "cell_type": "code",
   "execution_count": 28,
   "metadata": {},
   "outputs": [
    {
     "data": {
      "text/plain": [
       "user_id                 0\n",
       "city                41141\n",
       "country             41141\n",
       "lat                 41141\n",
       "long                41141\n",
       "timestamp               0\n",
       "source                  0\n",
       "device                  0\n",
       "operative_system        0\n",
       "test                    0\n",
       "price                   0\n",
       "converted               0\n",
       "revenue                 0\n",
       "dtype: int64"
      ]
     },
     "execution_count": 28,
     "metadata": {},
     "output_type": "execute_result"
    }
   ],
   "source": [
    "user_test.isnull().sum()"
   ]
  },
  {
   "cell_type": "code",
   "execution_count": 75,
   "metadata": {},
   "outputs": [
    {
     "name": "stdout",
     "output_type": "stream",
     "text": [
      "0.7760829955016122\n",
      "0.917747853719342\n"
     ]
    }
   ],
   "source": [
    "c_group=user_test[user_test['test']==0]\n",
    "t_group=user_test[user_test['test']==1]\n",
    "print(c_group['revenue'].mean())\n",
    "print(t_group['revenue'].mean())"
   ]
  },
  {
   "cell_type": "code",
   "execution_count": 10,
   "metadata": {},
   "outputs": [],
   "source": [
    "c_source=c_group['source'].unique()\n",
    "t_source=t_group['source'].unique()\n",
    "## get the source names from each group and store them as lists, it will allow us to group results based on the source tunnels."
   ]
  },
  {
   "cell_type": "code",
   "execution_count": 100,
   "metadata": {},
   "outputs": [
    {
     "data": {
      "image/png": "[encoded data removed]",
      "text/plain": [
       "<Figure size 1296x432 with 1 Axes>"
      ]
     },
     "metadata": {
      "needs_background": "light"
     },
     "output_type": "display_data"
    }
   ],
   "source": [
    "groupby_source = c_group.groupby('source')[['converted', 'source']].mean()\n",
    "groupby_source = groupby_source.reset_index()\n",
    "groupby_source = groupby_source.sort_values('converted', ascending=False)\n",
    "\n",
    "## visualization\n",
    "fig, ax = plt.subplots(figsize=(18, 6))\n",
    "sns.barplot(x='source', y='converted', data=groupby_source, ax=ax)\n",
    "for key,spine in ax.spines.items():\n",
    "        spine.set_visible(False)\n",
    "ax.set_title('Mean Conversion Rate per source', fontsize=16)\n",
    "plt.show()"
   ]
  },
  {
   "cell_type": "code",
   "execution_count": 103,
   "metadata": {},
   "outputs": [
    {
     "data": {
      "image/png": "[encoded data removed]",
      "text/plain": [
       "<Figure size 1296x432 with 1 Axes>"
      ]
     },
     "metadata": {
      "needs_background": "light"
     },
     "output_type": "display_data"
    }
   ],
   "source": [
    "groupby_source = t_group.groupby('source')[['converted', 'source']].mean()\n",
    "groupby_source = groupby_source.reset_index()\n",
    "groupby_source = groupby_source.sort_values('converted', ascending=False)\n",
    "\n",
    "## visualization\n",
    "fig, ax = plt.subplots(figsize=(18, 6))\n",
    "sns.barplot(x='source', y='converted', data=groupby_source, ax=ax)\n",
    "for key,spine in ax.spines.items():\n",
    "        spine.set_visible(False)\n",
    "ax.set_title('Mean Conversion Rate per source', fontsize=16)\n",
    "plt.show()"
   ]
  },
  {
   "cell_type": "code",
   "execution_count": 104,
   "metadata": {},
   "outputs": [
    {
     "data": {
      "image/png": "[encoded data removed]",
      "text/plain": [
       "<Figure size 1296x432 with 1 Axes>"
      ]
     },
     "metadata": {
      "needs_background": "light"
     },
     "output_type": "display_data"
    }
   ],
   "source": [
    "fig, ax = plt.subplots(figsize=(18, 6))\n",
    "sns.barplot(x='source', y='converted', hue='test', data=user_test, ax=ax)\n",
    "plt.show()"
   ]
  },
  {
   "cell_type": "code",
   "execution_count": 106,
   "metadata": {},
   "outputs": [
    {
     "data": {
      "image/png": "[encoded data removed]",
      "text/plain": [
       "<Figure size 1296x432 with 2 Axes>"
      ]
     },
     "metadata": {
      "needs_background": "light"
     },
     "output_type": "display_data"
    }
   ],
   "source": [
    "fig, ax = plt.subplots(nrows=1, ncols=2, figsize=(18, 6))\n",
    "sns.countplot(x='device', hue='test', data=user_test, ax=ax[0])\n",
    "ax[0].set_title('Count Plot of Device', fontsize=16)\n",
    "\n",
    "sns.barplot(x='device', y='converted', hue='test', data=user_test, ax=ax[1]) ## specify the parameter in the dataframe, hue for different categories.\n",
    "ax[1].set_title('Mean Conversion Rate per device', fontsize=16)\n",
    "plt.tight_layout()\n",
    "plt.show()"
   ]
  },
  {
   "cell_type": "code",
   "execution_count": 107,
   "metadata": {},
   "outputs": [
    {
     "data": {
      "image/png": "[encoded data removed]",
      "text/plain": [
       "<Figure size 1296x432 with 2 Axes>"
      ]
     },
     "metadata": {
      "needs_background": "light"
     },
     "output_type": "display_data"
    }
   ],
   "source": [
    "fig, ax = plt.subplots(nrows=1, ncols=2, figsize=(18, 6))\n",
    "sns.countplot(x='operative_system', hue='test', data=user_test, ax=ax[0])\n",
    "ax[0].set_title('Count Plot of Operative System', fontsize=16)\n",
    "\n",
    "sns.barplot(x='operative_system', y='converted', hue='test', data=user_test, ax=ax[1]) ## specify the parameter in the dataframe, hue for different categories.\n",
    "ax[1].set_title('Mean Conversion Rate per operative system', fontsize=16)\n",
    "plt.tight_layout()\n",
    "plt.show()"
   ]
  },
  {
   "cell_type": "markdown",
   "metadata": {},
   "source": [
    "# Q1"
   ]
  },
  {
   "cell_type": "code",
   "execution_count": 94,
   "metadata": {},
   "outputs": [
    {
     "data": {
      "text/html": [
       "<div>\n",
       "<style scoped>\n",
       "    .dataframe tbody tr th:only-of-type {\n",
       "        vertical-align: middle;\n",
       "    }\n",
       "\n",
       "    .dataframe tbody tr th {\n",
       "        vertical-align: top;\n",
       "    }\n",
       "\n",
       "    .dataframe thead th {\n",
       "        text-align: right;\n",
       "    }\n",
       "</style>\n",
       "<table border=\"1\" class=\"dataframe\">\n",
       "  <thead>\n",
       "    <tr style=\"text-align: right;\">\n",
       "      <th></th>\n",
       "      <th>converted</th>\n",
       "    </tr>\n",
       "    <tr>\n",
       "      <th>test</th>\n",
       "      <th></th>\n",
       "    </tr>\n",
       "  </thead>\n",
       "  <tbody>\n",
       "    <tr>\n",
       "      <th>0</th>\n",
       "      <td>0.019900</td>\n",
       "    </tr>\n",
       "    <tr>\n",
       "      <th>1</th>\n",
       "      <td>0.015555</td>\n",
       "    </tr>\n",
       "  </tbody>\n",
       "</table>\n",
       "</div>"
      ],
      "text/plain": [
       "      converted\n",
       "test           \n",
       "0      0.019900\n",
       "1      0.015555"
      ]
     },
     "execution_count": 94,
     "metadata": {},
     "output_type": "execute_result"
    }
   ],
   "source": [
    "# check the conversion rate for A/B test\n",
    "user_test[['test', 'converted']].groupby('test').mean()"
   ]
  },
  {
   "cell_type": "code",
   "execution_count": 95,
   "metadata": {},
   "outputs": [
    {
     "data": {
      "text/html": [
       "<div>\n",
       "<style scoped>\n",
       "    .dataframe tbody tr th:only-of-type {\n",
       "        vertical-align: middle;\n",
       "    }\n",
       "\n",
       "    .dataframe tbody tr th {\n",
       "        vertical-align: top;\n",
       "    }\n",
       "\n",
       "    .dataframe thead th {\n",
       "        text-align: right;\n",
       "    }\n",
       "</style>\n",
       "<table border=\"1\" class=\"dataframe\">\n",
       "  <thead>\n",
       "    <tr style=\"text-align: right;\">\n",
       "      <th></th>\n",
       "      <th>revenue</th>\n",
       "    </tr>\n",
       "    <tr>\n",
       "      <th>test</th>\n",
       "      <th></th>\n",
       "    </tr>\n",
       "  </thead>\n",
       "  <tbody>\n",
       "    <tr>\n",
       "      <th>0</th>\n",
       "      <td>0.776083</td>\n",
       "    </tr>\n",
       "    <tr>\n",
       "      <th>1</th>\n",
       "      <td>0.917748</td>\n",
       "    </tr>\n",
       "  </tbody>\n",
       "</table>\n",
       "</div>"
      ],
      "text/plain": [
       "       revenue\n",
       "test          \n",
       "0     0.776083\n",
       "1     0.917748"
      ]
     },
     "execution_count": 95,
     "metadata": {},
     "output_type": "execute_result"
    }
   ],
   "source": [
    "# check the revenue for A/B test\n",
    "user_test[['test', 'revenue']].groupby('test').mean()"
   ]
  },
  {
   "cell_type": "markdown",
   "metadata": {},
   "source": [
    "Apparently, the mean conversion rate with price 39 is higher than the rate of price 59, but revenue with price 59 is higher than that of price 39. We can conduct an hypothesis testing to check if the mean revenue in test group is significantly higher than the mean revenue in the control group. \\\n",
    "Null Hypothesis: mean revenue is the same on both groups.\\\n",
    "Alternative Hypothesis: mean revenue in test group is higher. "
   ]
  },
  {
   "cell_type": "code",
   "execution_count": 96,
   "metadata": {},
   "outputs": [
    {
     "name": "stdout",
     "output_type": "stream",
     "text": [
      "Ttest_indResult(statistic=-5.715224666463109, pvalue=1.0972577312420708e-08)\n"
     ]
    }
   ],
   "source": [
    "ctr_val = user_test[user_test['test'] == 0]['revenue'].values\n",
    "exp_val = user_test[user_test['test'] == 1]['revenue'].values\n",
    "print(ttest_ind(ctr_val, exp_val, axis=0, equal_var=False))"
   ]
  },
  {
   "cell_type": "markdown",
   "metadata": {},
   "source": [
    "The above is a two-tailed test. However, even if it is one-tailed test, we can safely reject the null hypothesis to conclude that the mean revenue in test group is higher than the mean revenue in control group. Therefore, based on the statistical analysis of the mean revenue in both groups, teh company should sell the software for 59. "
   ]
  },
  {
   "cell_type": "markdown",
   "metadata": {},
   "source": [
    "# Q2"
   ]
  },
  {
   "cell_type": "markdown",
   "metadata": {},
   "source": [
    "The holistic view into user behavior demands a look-up on each individual factor's relationship with the mean conversion rate in both groups. As we can see from the mean conversion rate per source, it is obvious the mean conversion rate with friend's referral is way higher the rest of sources. It sends us the message that adversting on old customers will be a good stratgy for the marketing team. In addition to that, mac or ios users have higher conversion rate than the rest of other operative systems. \n",
    "It's worth targeting ios and mac users for the marketing team. Also, simiarly, we can conduct a hypotheis testing to test if the mean conversion rate in control group is higher than that in experimental group. \\\n",
    "Null Hypothesis: mean conversion rate is the same on both groups.\\\n",
    "Alternative Hypothesis: mean conversion rate in control group is higher. "
   ]
  },
  {
   "cell_type": "code",
   "execution_count": 108,
   "metadata": {},
   "outputs": [
    {
     "name": "stdout",
     "output_type": "stream",
     "text": [
      "Ttest_indResult(statistic=9.044608417898376, pvalue=1.5119397664466364e-19)\n"
     ]
    }
   ],
   "source": [
    "ctr_rate = user_test[user_test['test'] == 0]['converted'].values\n",
    "exp_rate = user_test[user_test['test'] == 1]['converted'].values\n",
    "print(ttest_ind(ctr_rate, exp_rate, axis=0, equal_var=False))"
   ]
  },
  {
   "cell_type": "markdown",
   "metadata": {},
   "source": [
    "p-value is less than the level of significance 0.05 by default, there is statistical significant evidence that the mean conversion rate in control group is higher than the mean conversion rate in test group. ***In summary, lowering the price, targeting the old customers, advertising on ios and mac users will be three actionable strategies to imporve the conversion rate based on the study. ***"
   ]
  },
  {
   "cell_type": "markdown",
   "metadata": {},
   "source": [
    "# Bonus"
   ]
  },
  {
   "cell_type": "markdown",
   "metadata": {},
   "source": [
    "I personally disagree with his initution. If we run the experiment in a shorter time, the sample we collected might not reflect the true behvior of population. The result drawn from the new version of experient is subject to the sampling bias, making our decision making biased. "
   ]
  },
  {
   "cell_type": "code",
   "execution_count": null,
   "metadata": {},
   "outputs": [],
   "source": []
  }
 ],
 "metadata": {
  "kernelspec": {
   "display_name": "Python 3",
   "language": "python",
   "name": "python3"
  },
  "language_info": {
   "codemirror_mode": {
    "name": "ipython",
    "version": 3
   },
   "file_extension": ".py",
   "mimetype": "text/x-python",
   "name": "python",
   "nbconvert_exporter": "python",
   "pygments_lexer": "ipython3",
   "version": "3.8.3"
  }
 },
 "nbformat": 4,
 "nbformat_minor": 4
}
